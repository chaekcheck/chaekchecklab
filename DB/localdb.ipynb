{
 "cells": [
  {
   "cell_type": "code",
   "execution_count": 5,
   "metadata": {},
   "outputs": [],
   "source": [
    "# %pip install streamlit"
   ]
  },
  {
   "cell_type": "code",
   "execution_count": 30,
   "metadata": {},
   "outputs": [],
   "source": [
    "import streamlit as pt"
   ]
  },
  {
   "cell_type": "code",
   "execution_count": 2,
   "metadata": {},
   "outputs": [],
   "source": [
    "import pymysql"
   ]
  },
  {
   "cell_type": "code",
   "execution_count": 3,
   "metadata": {},
   "outputs": [
    {
     "data": {
      "text/plain": [
       "True"
      ]
     },
     "execution_count": 3,
     "metadata": {},
     "output_type": "execute_result"
    }
   ],
   "source": [
    "import os\n",
    "from dotenv import load_dotenv, find_dotenv\n",
    "dotenv_file = find_dotenv()\n",
    "load_dotenv(dotenv_file)"
   ]
  },
  {
   "cell_type": "code",
   "execution_count": 15,
   "metadata": {},
   "outputs": [],
   "source": [
    "conn = pymysql.connect(\n",
    "    host = os.environ[\"host\"],\n",
    "    port = int(os.environ[\"port\"]),\n",
    "    user = os.environ[\"user\"],\n",
    "    password=os.environ[\"passwd\"],\n",
    "    charset=os.environ['charset']\n",
    ")"
   ]
  },
  {
   "cell_type": "code",
   "execution_count": 14,
   "metadata": {},
   "outputs": [],
   "source": [
    "with conn.cursor() as cursor :\n",
    "    cursor.execute('''CREATE DATABASE IF NOT EXISTS CKCKDB CHARACTER SET utf8mb4 COLLATE utf8mb4_unicode_ci;''')\n",
    "    conn.commit()"
   ]
  },
  {
   "cell_type": "code",
   "execution_count": 16,
   "metadata": {},
   "outputs": [],
   "source": [
    "with conn.cursor() as cursor:\n",
    "    cursor.execute('USE CKCKDB;')\n",
    "    conn.commit()"
   ]
  },
  {
   "cell_type": "code",
   "execution_count": 20,
   "metadata": {},
   "outputs": [],
   "source": [
    "# tb_book 생성\n",
    "\n",
    "mk_book_table = '''\n",
    "CREATE TABLE IF NOT EXISTS tb_book (\n",
    "id INTEGER UNSIGNED NOT NULL AUTO_INCREMENT,\n",
    "title VARCHAR(255) NOT NULL,\n",
    "full_title VARCHAR(255) NOT NULL,\n",
    "author VARCHAR(128) NOT NULL,\n",
    "translator VARCHAR(128) NULL,\n",
    "publish_date DATE NULL,\n",
    "publisher VARCHAR(30) NULL,\n",
    "introduction TEXT NULL,\n",
    "isbn INTEGER NOT NULL,\n",
    "page MEDIUMINT NULL,\n",
    "weight MEDIUMINT NULL,\n",
    "size VARCHAR(20) NULL,\n",
    "categories VARCHAR(300) NOT NULL,\n",
    "PRIMARY KEY (id),\n",
    "UNIQUE KEY unique_name (isbn)\n",
    ")\n",
    "'''\n",
    "\n",
    "with conn.cursor() as cursor :\n",
    "    cursor.execute(mk_book_table)\n",
    "    conn.commit()"
   ]
  },
  {
   "cell_type": "code",
   "execution_count": 23,
   "metadata": {},
   "outputs": [],
   "source": [
    "# tb_review 생성\n",
    "\n",
    "mk_review_table = '''\n",
    "CREATE TABLE IF NOT EXISTS tb_review (\n",
    "id INTEGER UNSIGNED NOT NULL AUTO_INCREMENT,\n",
    "book_id INTEGER UNSIGNED NOT NULL,\n",
    "user_id INTEGER NOT NULL,\n",
    "content TEXT NULL,\n",
    "date DATE NULL,\n",
    "score TINYINT NULL,\n",
    "PRIMARY KEY (id),\n",
    "FOREIGN KEY (book_id) REFERENCES tb_book(id)\n",
    ")\n",
    "'''\n",
    "\n",
    "with conn.cursor() as cursor :\n",
    "    cursor.execute(mk_review_table)\n",
    "    conn.commit()"
   ]
  },
  {
   "cell_type": "code",
   "execution_count": 24,
   "metadata": {},
   "outputs": [],
   "source": [
    "# tb_category 생성\n",
    "\n",
    "mk_category_table = '''\n",
    "CREATE TABLE IF NOT EXISTS tb_category (\n",
    "id INTEGER NOT NULL,\n",
    "depth_1 VARCHAR(30) NOT NULL,\n",
    "depth_2 VARCHAR(30) NULL,\n",
    "depth_3 VARCHAR(30) NULL,\n",
    "depth_4 VARCHAR(30) NULL,\n",
    "depth_5 VARCHAR(30) NULL\n",
    ")\n",
    "'''\n",
    "\n",
    "with conn.cursor() as cursor :\n",
    "    cursor.execute(mk_category_table)\n",
    "    conn.commit()"
   ]
  },
  {
   "cell_type": "code",
   "execution_count": 5,
   "metadata": {},
   "outputs": [],
   "source": [
    "import pandas as pd"
   ]
  },
  {
   "cell_type": "code",
   "execution_count": 6,
   "metadata": {},
   "outputs": [],
   "source": [
    "cate = pd.read_excel(\"CKCKDB\\category.xlsx\")"
   ]
  },
  {
   "cell_type": "code",
   "execution_count": 7,
   "metadata": {},
   "outputs": [],
   "source": [
    "cate = cate.fillna(\"NULL\")"
   ]
  },
  {
   "cell_type": "code",
   "execution_count": 8,
   "metadata": {},
   "outputs": [
    {
     "data": {
      "text/html": [
       "<div>\n",
       "<style scoped>\n",
       "    .dataframe tbody tr th:only-of-type {\n",
       "        vertical-align: middle;\n",
       "    }\n",
       "\n",
       "    .dataframe tbody tr th {\n",
       "        vertical-align: top;\n",
       "    }\n",
       "\n",
       "    .dataframe thead th {\n",
       "        text-align: right;\n",
       "    }\n",
       "</style>\n",
       "<table border=\"1\" class=\"dataframe\">\n",
       "  <thead>\n",
       "    <tr style=\"text-align: right;\">\n",
       "      <th></th>\n",
       "      <th>카테고리ID</th>\n",
       "      <th>DEPTH_1</th>\n",
       "      <th>DEPTH_2</th>\n",
       "      <th>DEPTH_3</th>\n",
       "      <th>DEPTH_4</th>\n",
       "      <th>DEPTH_5</th>\n",
       "    </tr>\n",
       "  </thead>\n",
       "  <tbody>\n",
       "    <tr>\n",
       "      <th>0</th>\n",
       "      <td>1001025006</td>\n",
       "      <td>경제 경영</td>\n",
       "      <td>총람/연감</td>\n",
       "      <td>NULL</td>\n",
       "      <td>NULL</td>\n",
       "      <td>NULL</td>\n",
       "    </tr>\n",
       "    <tr>\n",
       "      <th>1</th>\n",
       "      <td>1001025012</td>\n",
       "      <td>경제 경영</td>\n",
       "      <td>정부간행물</td>\n",
       "      <td>NULL</td>\n",
       "      <td>NULL</td>\n",
       "      <td>NULL</td>\n",
       "    </tr>\n",
       "    <tr>\n",
       "      <th>2</th>\n",
       "      <td>1001025007004</td>\n",
       "      <td>경제 경영</td>\n",
       "      <td>경제</td>\n",
       "      <td>각국경제/경제사/전망</td>\n",
       "      <td>NULL</td>\n",
       "      <td>NULL</td>\n",
       "    </tr>\n",
       "    <tr>\n",
       "      <th>3</th>\n",
       "      <td>1001025007001</td>\n",
       "      <td>경제 경영</td>\n",
       "      <td>경제</td>\n",
       "      <td>국제경제/금융/화폐</td>\n",
       "      <td>NULL</td>\n",
       "      <td>NULL</td>\n",
       "    </tr>\n",
       "    <tr>\n",
       "      <th>4</th>\n",
       "      <td>1001025007002</td>\n",
       "      <td>경제 경영</td>\n",
       "      <td>경제</td>\n",
       "      <td>경제상식/경제이야기</td>\n",
       "      <td>NULL</td>\n",
       "      <td>NULL</td>\n",
       "    </tr>\n",
       "    <tr>\n",
       "      <th>...</th>\n",
       "      <td>...</td>\n",
       "      <td>...</td>\n",
       "      <td>...</td>\n",
       "      <td>...</td>\n",
       "      <td>...</td>\n",
       "      <td>...</td>\n",
       "    </tr>\n",
       "    <tr>\n",
       "      <th>99</th>\n",
       "      <td>1001047016</td>\n",
       "      <td>에세이</td>\n",
       "      <td>포토 에세이</td>\n",
       "      <td>NULL</td>\n",
       "      <td>NULL</td>\n",
       "      <td>NULL</td>\n",
       "    </tr>\n",
       "    <tr>\n",
       "      <th>100</th>\n",
       "      <td>1001047017</td>\n",
       "      <td>에세이</td>\n",
       "      <td>휴먼 에세이</td>\n",
       "      <td>NULL</td>\n",
       "      <td>NULL</td>\n",
       "      <td>NULL</td>\n",
       "    </tr>\n",
       "    <tr>\n",
       "      <th>101</th>\n",
       "      <td>1001047006</td>\n",
       "      <td>에세이</td>\n",
       "      <td>그림 에세이</td>\n",
       "      <td>NULL</td>\n",
       "      <td>NULL</td>\n",
       "      <td>NULL</td>\n",
       "    </tr>\n",
       "    <tr>\n",
       "      <th>102</th>\n",
       "      <td>1001047002</td>\n",
       "      <td>에세이</td>\n",
       "      <td>외국 에세이</td>\n",
       "      <td>NULL</td>\n",
       "      <td>NULL</td>\n",
       "      <td>NULL</td>\n",
       "    </tr>\n",
       "    <tr>\n",
       "      <th>103</th>\n",
       "      <td>1001047001</td>\n",
       "      <td>에세이</td>\n",
       "      <td>한국 에세이</td>\n",
       "      <td>NULL</td>\n",
       "      <td>NULL</td>\n",
       "      <td>NULL</td>\n",
       "    </tr>\n",
       "  </tbody>\n",
       "</table>\n",
       "<p>104 rows × 6 columns</p>\n",
       "</div>"
      ],
      "text/plain": [
       "            카테고리ID DEPTH_1 DEPTH_2      DEPTH_3 DEPTH_4 DEPTH_5\n",
       "0       1001025006   경제 경영   총람/연감         NULL    NULL    NULL\n",
       "1       1001025012   경제 경영   정부간행물         NULL    NULL    NULL\n",
       "2    1001025007004   경제 경영      경제  각국경제/경제사/전망    NULL    NULL\n",
       "3    1001025007001   경제 경영      경제   국제경제/금융/화폐    NULL    NULL\n",
       "4    1001025007002   경제 경영      경제   경제상식/경제이야기    NULL    NULL\n",
       "..             ...     ...     ...          ...     ...     ...\n",
       "99      1001047016     에세이  포토 에세이         NULL    NULL    NULL\n",
       "100     1001047017     에세이  휴먼 에세이         NULL    NULL    NULL\n",
       "101     1001047006     에세이  그림 에세이         NULL    NULL    NULL\n",
       "102     1001047002     에세이  외국 에세이         NULL    NULL    NULL\n",
       "103     1001047001     에세이  한국 에세이         NULL    NULL    NULL\n",
       "\n",
       "[104 rows x 6 columns]"
      ]
     },
     "execution_count": 8,
     "metadata": {},
     "output_type": "execute_result"
    }
   ],
   "source": [
    "cate"
   ]
  },
  {
   "cell_type": "code",
   "execution_count": 44,
   "metadata": {},
   "outputs": [],
   "source": [
    "# from sqlalchemy import create_engine\n",
    "# import pandas as pd\n",
    "\n",
    "# # SQLite 데이터베이스 연결\n",
    "# engine = create_engine('sqlite:///example.db')\n",
    "\n",
    "# # 데이터프레임을 SQL 테이블로 저장\n",
    "# cate.to_sql('user_table', engine, if_exists='replace', index=False)"
   ]
  },
  {
   "cell_type": "code",
   "execution_count": 36,
   "metadata": {},
   "outputs": [],
   "source": [
    "# pip install sqlalchemy"
   ]
  },
  {
   "cell_type": "code",
   "execution_count": 29,
   "metadata": {},
   "outputs": [
    {
     "name": "stdout",
     "output_type": "stream",
     "text": [
      "(1001025006, '경제 경영', '총람/연감', 'NULL', 'NULL', 'NULL')\n",
      "(1001025012, '경제 경영', '정부간행물', 'NULL', 'NULL', 'NULL')\n",
      "(1001025007004, '경제 경영', '경제', '각국경제/경제사/전망', 'NULL', 'NULL')\n",
      "(1001025007001, '경제 경영', '경제', '국제경제/금융/화폐', 'NULL', 'NULL')\n",
      "(1001025007002, '경제 경영', '경제', '경제상식/경제이야기', 'NULL', 'NULL')\n",
      "(1001025007003, '경제 경영', '경제', '경제사상과이론', 'NULL', 'NULL')\n",
      "(1001025007005, '경제 경영', '경제', '지역경제', 'NULL', 'NULL')\n",
      "(1001025008006, '경제 경영', '경영', '경영전략/경영혁신', 'NULL', 'NULL')\n",
      "(1001025008005, '경제 경영', '경영', '경영일반', 'NULL', 'NULL')\n",
      "(1001025008008, '경제 경영', '경영', '회계/재무/세무', 'NULL', 'NULL')\n",
      "(1001025008003, '경제 경영', '경영', '기업/경영자스토리', 'NULL', 'NULL')\n",
      "(1001025008010, '경제 경영', '경영', '창업/장사', 'NULL', 'NULL')\n",
      "(1001025008007, '경제 경영', '경영', '조직/인적자원관리', 'NULL', 'NULL')\n",
      "(1001025008009, '경제 경영', '경영', '생산/품질/유통관리', 'NULL', 'NULL')\n",
      "(1001025008013, '경제 경영', '경영', '중소기업/신사업경영', 'NULL', 'NULL')\n",
      "(1001025008012, '경제 경영', '경영', '경영철학/기업윤리', 'NULL', 'NULL')\n",
      "(1001025008001, '경제 경영', '경영', '서비스/고객만족', 'NULL', 'NULL')\n",
      "(1001025008004, '경제 경영', '경영', '관광/호텔경영', 'NULL', 'NULL')\n",
      "(1001025008002, '경제 경영', '경영', '무역', 'NULL', 'NULL')\n",
      "(1001025008011, '경제 경영', '경영', '항공/교통/물류', 'NULL', 'NULL')\n",
      "(1001025010003, '경제 경영', '투자/재테크', '부동산/경매', 'NULL', 'NULL')\n",
      "(1001025010002, '경제 경영', '투자/재테크', '주식/증권', 'NULL', 'NULL')\n",
      "(1001025010004, '경제 경영', '투자/재테크', '재테크일반', 'NULL', 'NULL')\n",
      "(1001025010001, '경제 경영', '투자/재테크', '창업/장사', 'NULL', 'NULL')\n",
      "(1001025010005, '경제 경영', '투자/재테크', '외환투자', 'NULL', 'NULL')\n",
      "(1001025009001, '경제 경영', '마케팅/세일즈', '마케팅/브랜드', 'NULL', 'NULL')\n",
      "(1001025009003, '경제 경영', '마케팅/세일즈', '영업/세일즈', 'NULL', 'NULL')\n",
      "(1001025009005, '경제 경영', '마케팅/세일즈', '트렌드/미래예측', 'NULL', 'NULL')\n",
      "(1001025009002, '경제 경영', '마케팅/세일즈', '네트워크마케팅', 'NULL', 'NULL')\n",
      "(1001025009004, '경제 경영', '마케팅/세일즈', '인터넷마케팅', 'NULL', 'NULL')\n",
      "(1001025001006, '경제 경영', 'CEO/비즈니스맨', '성공학/경력관리', 'NULL', 'NULL')\n",
      "(1001025001001, '경제 경영', 'CEO/비즈니스맨', '간부학/리더십', 'NULL', 'NULL')\n",
      "(1001025001002, '경제 경영', 'CEO/비즈니스맨', '기업/경영자스토리', 'NULL', 'NULL')\n",
      "(1001025001005, '경제 경영', 'CEO/비즈니스맨', '취업/유망직업', 'NULL', 'NULL')\n",
      "(1001025001003, '경제 경영', 'CEO/비즈니스맨', '화술/협상/회의진행', 'NULL', 'NULL')\n",
      "(1001025001004, '경제 경영', 'CEO/비즈니스맨', '기획/정보/시간관리', 'NULL', 'NULL')\n",
      "(1001025011002, '경제 경영', '인터넷비즈니스', 'e-비즈니스', 'NULL', 'NULL')\n",
      "(1001025011001, '경제 경영', '인터넷비즈니스', '인터넷마케팅', 'NULL', 'NULL')\n",
      "(1001025007004004, '경제 경영', '경제', '각국경제/경제사/전망', '경제전망', 'NULL')\n",
      "(1001025007004002, '경제 경영', '경제', '각국경제/경제사/전망', '한국경제', 'NULL')\n",
      "(1001025007004001, '경제 경영', '경제', '각국경제/경제사/전망', '세계경제', 'NULL')\n",
      "(1001025007004003, '경제 경영', '경제', '각국경제/경제사/전망', '경제사', 'NULL')\n",
      "(1001046009, '소설 시 희곡', '북유럽소설', 'NULL', 'NULL', 'NULL')\n",
      "(1001046011001, '소설 시 희곡', '장르소설', '추리/미스터리', 'NULL', 'NULL')\n",
      "(1001046011002, '소설 시 희곡', '장르소설', '공포/스릴러', 'NULL', 'NULL')\n",
      "(1001046011003, '소설 시 희곡', '장르소설', '판타지', 'NULL', 'NULL')\n",
      "(1001046011004, '소설 시 희곡', '장르소설', '무협', 'NULL', 'NULL')\n",
      "(1001046011005, '소설 시 희곡', '장르소설', 'SF', 'NULL', 'NULL')\n",
      "(1001046011006, '소설 시 희곡', '장르소설', '역사', 'NULL', 'NULL')\n",
      "(1001046011007, '소설 시 희곡', '장르소설', '로맨스', 'NULL', 'NULL')\n",
      "(1001046012001, '소설 시 희곡', '테마소설', '성장소설/가족소설', 'NULL', 'NULL')\n",
      "(1001046012002, '소설 시 희곡', '테마소설', '연애/사랑소설', 'NULL', 'NULL')\n",
      "(1001046012004, '소설 시 희곡', '테마소설', '웹소설', 'NULL', 'NULL')\n",
      "(1001046012005, '소설 시 희곡', '테마소설', '보이러브', 'NULL', 'NULL')\n",
      "(1001046012006, '소설 시 희곡', '테마소설', '어른을위한동화/우화', 'NULL', 'NULL')\n",
      "(1001046012007, '소설 시 희곡', '테마소설', '라이트노벨', 'NULL', 'NULL')\n",
      "(1001046012008, '소설 시 희곡', '테마소설', '영화와드라마원작', 'NULL', 'NULL')\n",
      "(1001046013001, '소설 시 희곡', '고전문학', '한국고전문학', 'NULL', 'NULL')\n",
      "(1001046013002, '소설 시 희곡', '고전문학', '동양고전문학', 'NULL', 'NULL')\n",
      "(1001046013003, '소설 시 희곡', '고전문학', '서양고전문학', 'NULL', 'NULL')\n",
      "(1001046013004, '소설 시 희곡', '고전문학', '신화와설화', 'NULL', 'NULL')\n",
      "(1001046014001, '소설 시 희곡', '시/희곡', '세계의시', 'NULL', 'NULL')\n",
      "(1001046014002, '소설 시 희곡', '시/희곡', '시화집', 'NULL', 'NULL')\n",
      "(1001046014003, '소설 시 희곡', '시/희곡', '한국시', 'NULL', 'NULL')\n",
      "(1001046014004, '소설 시 희곡', '시/희곡', '한시/옛시', 'NULL', 'NULL')\n",
      "(1001046014005, '소설 시 희곡', '시/희곡', '희곡/시나리오', 'NULL', 'NULL')\n",
      "(1001046015001, '소설 시 희곡', '비평/창작/이론', '문학사', 'NULL', 'NULL')\n",
      "(1001046015002, '소설 시 희곡', '비평/창작/이론', '문학의이해', 'NULL', 'NULL')\n",
      "(1001046015003, '소설 시 희곡', '비평/창작/이론', '문학이론', 'NULL', 'NULL')\n",
      "(1001046015004, '소설 시 희곡', '비평/창작/이론', '소설비평', 'NULL', 'NULL')\n",
      "(1001046015005, '소설 시 희곡', '비평/창작/이론', '시비평', 'NULL', 'NULL')\n",
      "(1001046015006, '소설 시 희곡', '비평/창작/이론', '작가탐구', 'NULL', 'NULL')\n",
      "(1001046015007, '소설 시 희곡', '비평/창작/이론', '창작/문장작법', 'NULL', 'NULL')\n",
      "(1001046015008, '소설 시 희곡', '비평/창작/이론', '평론일반', 'NULL', 'NULL')\n",
      "(1001046001001, '소설 시 희곡', '한국소설', '한국단편소설', 'NULL', 'NULL')\n",
      "(1001046001002, '소설 시 희곡', '한국소설', '한국장편소설', 'NULL', 'NULL')\n",
      "(1001046002001, '소설 시 희곡', '영미소설', '영미단편소설', 'NULL', 'NULL')\n",
      "(1001046002002, '소설 시 희곡', '영미소설', '영미장편소설', 'NULL', 'NULL')\n",
      "(1001046003001, '소설 시 희곡', '일본소설', '일본단편소설', 'NULL', 'NULL')\n",
      "(1001046003002, '소설 시 희곡', '일본소설', '일본장편소설', 'NULL', 'NULL')\n",
      "(1001046008001, '소설 시 희곡', '스페인/중남미소설', '스페인/포르투갈', 'NULL', 'NULL')\n",
      "(1001046008002, '소설 시 희곡', '스페인/중남미소설', '중남미', 'NULL', 'NULL')\n",
      "(1001046010001, '소설 시 희곡', '세계각국소설', '이탈리아소설', 'NULL', 'NULL')\n",
      "(1001046010002, '소설 시 희곡', '세계각국소설', '동유럽소설', 'NULL', 'NULL')\n",
      "(1001046010003, '소설 시 희곡', '세계각국소설', '기타 국가의 소설', 'NULL', 'NULL')\n",
      "(1001047005, '에세이', '감성/가족에세이', 'NULL', 'NULL', 'NULL')\n",
      "(1001047007, '에세이', '나이듦에 대하여', 'NULL', 'NULL', 'NULL')\n",
      "(1001047008, '에세이', '독서 에세이', 'NULL', 'NULL', 'NULL')\n",
      "(1001047009, '에세이', '동물 에세이', 'NULL', 'NULL', 'NULL')\n",
      "(1001047019, '에세이', '명사/연예인 에세이', 'NULL', 'NULL', 'NULL')\n",
      "(1001047003, '에세이', '명상/치유 에세이', 'NULL', 'NULL', 'NULL')\n",
      "(1001047010, '에세이', '삶의 자세와 지혜', 'NULL', 'NULL', 'NULL')\n",
      "(1001047011, '에세이', '여성 에세이', 'NULL', 'NULL', 'NULL')\n",
      "(1001047012, '에세이', '여행 에세이', 'NULL', 'NULL', 'NULL')\n",
      "(1001047013, '에세이', '연애/사랑 에세이', 'NULL', 'NULL', 'NULL')\n",
      "(1001047014, '에세이', '예술 에세이', 'NULL', 'NULL', 'NULL')\n",
      "(1001047018, '에세이', '음식 에세이', 'NULL', 'NULL', 'NULL')\n",
      "(1001047004, '에세이', '일기/편지글', 'NULL', 'NULL', 'NULL')\n",
      "(1001047015, '에세이', '자연 에세이', 'NULL', 'NULL', 'NULL')\n",
      "(1001047016, '에세이', '포토 에세이', 'NULL', 'NULL', 'NULL')\n",
      "(1001047017, '에세이', '휴먼 에세이', 'NULL', 'NULL', 'NULL')\n",
      "(1001047006, '에세이', '그림 에세이', 'NULL', 'NULL', 'NULL')\n",
      "(1001047002, '에세이', '외국 에세이', 'NULL', 'NULL', 'NULL')\n",
      "(1001047001, '에세이', '한국 에세이', 'NULL', 'NULL', 'NULL')\n"
     ]
    }
   ],
   "source": [
    "with conn.cursor() as cursor :\n",
    "    for idx in range(len(cate)) :\n",
    "        print(tuple(cate.iloc[idx]))\n",
    "        insert_category = '''INSERT INTO tb_category(id, depth_1, depth_2, depth_3, depth_4, depth_5) VALUES(%s, %s, %s, %s, %s, %s);'''\n",
    "        cursor.execute(insert_category, tuple(cate.iloc[idx]))\n",
    "    conn.commit()\n",
    "\n"
   ]
  },
  {
   "cell_type": "code",
   "execution_count": 26,
   "metadata": {},
   "outputs": [],
   "source": [
    "# tb_category 데이터 타입 변경\n",
    "\n",
    "change_category_type = '''\n",
    "ALTER TABLE tb_category MODIFY depth_5 VARCHAR(100);\n",
    "'''\n",
    "\n",
    "with conn.cursor() as cursor :\n",
    "    cursor.execute(change_category_type)\n",
    "    conn.commit()"
   ]
  },
  {
   "cell_type": "code",
   "execution_count": 28,
   "metadata": {},
   "outputs": [],
   "source": [
    "# tb_category id 컬럼 데이터 타입 변경\n",
    "\n",
    "change_id_type = '''\n",
    "ALTER TABLE tb_category MODIFY id BIGINT;\n",
    "'''\n",
    "\n",
    "with conn.cursor() as cursor :\n",
    "    cursor.execute(change_id_type)\n",
    "    conn.commit()"
   ]
  },
  {
   "cell_type": "code",
   "execution_count": null,
   "metadata": {},
   "outputs": [],
   "source": []
  }
 ],
 "metadata": {
  "kernelspec": {
   "display_name": "project",
   "language": "python",
   "name": "python3"
  },
  "language_info": {
   "codemirror_mode": {
    "name": "ipython",
    "version": 3
   },
   "file_extension": ".py",
   "mimetype": "text/x-python",
   "name": "python",
   "nbconvert_exporter": "python",
   "pygments_lexer": "ipython3",
   "version": "3.11.9"
  }
 },
 "nbformat": 4,
 "nbformat_minor": 2
}
