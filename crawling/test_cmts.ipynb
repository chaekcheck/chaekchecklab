{
 "cells": [
  {
   "cell_type": "code",
   "execution_count": 10,
   "metadata": {},
   "outputs": [],
   "source": [
    "import pandas as pd\n",
    "import os\n",
    "import pathlib"
   ]
  },
  {
   "cell_type": "code",
   "execution_count": 22,
   "metadata": {},
   "outputs": [
    {
     "name": "stdout",
     "output_type": "stream",
     "text": [
      "D:\\python_project\\chaekchecklab\\data\\basic\\001001046001001.csv\n",
      "001001046001001\n",
      "['https://www.yes24.com/Product/Goods/7328528', 'https://www.yes24.com/Product/Goods/132381358', 'https://www.yes24.com/Product/Goods/124768983', 'https://www.yes24.com/Product/Goods/119810837', 'https://www.yes24.com/Product/Goods/130499525']\n"
     ]
    }
   ],
   "source": [
    "d_path = r\"D:\\python_project\\chaekchecklab\\data\\basic\"\n",
    "for p in os.listdir(d_path):\n",
    "    file_path = os.path.join(d_path, p)\n",
    "    print(file_path)\n",
    "\n",
    "    category_code = p.split('.')[0]\n",
    "    print(category_code)\n",
    "    \n",
    "    # book list\n",
    "    df = pd.read_csv(file_path)\n",
    "    book_urls = df.head().url.to_list()\n",
    "    print(book_urls)\n",
    "    break"
   ]
  },
  {
   "cell_type": "code",
   "execution_count": 1,
   "metadata": {},
   "outputs": [
    {
     "data": {
      "text/plain": [
       "\"['국내도서>소설/시/희곡>장르소설>SF', '국내도서>소설/시/희곡>한국소설>한국 단편소설', '국내도서>미디어 추천>중앙일보']\""
      ]
     },
     "execution_count": 1,
     "metadata": {},
     "output_type": "execute_result"
    }
   ],
   "source": [
    "test = \"['국내도서>소설/시/희곡>장르소설>SF', '국내도서>소설/시/희곡>한국소설>한국 단편소설', '국내도서>미디어 추천>중앙일보']\"\n",
    "\n",
    "str(test)"
   ]
  }
 ],
 "metadata": {
  "kernelspec": {
   "display_name": "chch",
   "language": "python",
   "name": "python3"
  },
  "language_info": {
   "codemirror_mode": {
    "name": "ipython",
    "version": 3
   },
   "file_extension": ".py",
   "mimetype": "text/x-python",
   "name": "python",
   "nbconvert_exporter": "python",
   "pygments_lexer": "ipython3",
   "version": "3.12.5"
  }
 },
 "nbformat": 4,
 "nbformat_minor": 2
}
