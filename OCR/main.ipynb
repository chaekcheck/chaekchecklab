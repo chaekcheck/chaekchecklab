{
 "cells": [
  {
   "cell_type": "code",
   "execution_count": 7,
   "metadata": {},
   "outputs": [
    {
     "name": "stderr",
     "output_type": "stream",
     "text": [
      "c:\\Users\\jjkha\\anaconda3\\envs\\chch\\Lib\\site-packages\\tqdm\\auto.py:21: TqdmWarning: IProgress not found. Please update jupyter and ipywidgets. See https://ipywidgets.readthedocs.io/en/stable/user_install.html\n",
      "  from .autonotebook import tqdm as notebook_tqdm\n"
     ]
    }
   ],
   "source": [
    "from show import show_images\n",
    "from objectDetector import ObjectDetector\n",
    "from textDetector import TextDetector\n",
    "from textReader import TextReader\n",
    "\n",
    "from PIL.Image import Image\n",
    "import unicodedata\n",
    "import numpy as np\n",
    "import torch"
   ]
  },
  {
   "cell_type": "code",
   "execution_count": 9,
   "metadata": {},
   "outputs": [],
   "source": [
    "od = ObjectDetector()"
   ]
  },
  {
   "cell_type": "code",
   "execution_count": 10,
   "metadata": {},
   "outputs": [
    {
     "name": "stdout",
     "output_type": "stream",
     "text": [
      "\n",
      "image 1/1 D:\\python_project\\OCR\\sample_image\\114110_Instagram.jpg: 640x576 1 knife, 8 books, 301.0ms\n",
      "Speed: 17.0ms preprocess, 301.0ms inference, 9.6ms postprocess per image at shape (1, 3, 640, 576)\n"
     ]
    }
   ],
   "source": [
    "image_path = r\"D:\\\\python_project\\\\OCR\\\\sample_image\\\\114110_Instagram.jpg\"\n",
    "cropped_img_list = od.get_object_images(image_path)"
   ]
  },
  {
   "cell_type": "code",
   "execution_count": 11,
   "metadata": {},
   "outputs": [
    {
     "name": "stderr",
     "output_type": "stream",
     "text": [
      "Neither CUDA nor MPS are available - defaulting to CPU. Note: This module is much faster with a GPU.\n",
      "c:\\Users\\jjkha\\anaconda3\\envs\\chch\\Lib\\site-packages\\transformers\\tokenization_utils_base.py:1601: FutureWarning: `clean_up_tokenization_spaces` was not set. It will be set to `True` by default. This behavior will be depracted in transformers v4.45, and will be then set to `False` by default. For more details check this issue: https://github.com/huggingface/transformers/issues/31884\n",
      "  warnings.warn(\n"
     ]
    }
   ],
   "source": [
    "td = TextDetector()\n",
    "tr = TextReader()"
   ]
  },
  {
   "cell_type": "code",
   "execution_count": 12,
   "metadata": {},
   "outputs": [
    {
     "name": "stdout",
     "output_type": "stream",
     "text": [
      "[['재즈의 계절', 0.9995783290441472, 0.978598952293396], ['급준읍 농풀조수유순림동 복읍 붙소', 0.08958832182978578, 0.6270639598369598]]\n",
      "[['리추열', 0.9304964864528695, 0.8976660370826721], ['환로 공륙활', 0.013882426185993519, 0.4867028594017029]]\n",
      "[['세상 바보 웃연시 화내는 방법', 0.6518326192567411, 0.9243069887161255], ['조중 뚜표 우표', 0.32285403608356805, 0.825307826201121]]\n",
      "[['남극으로 걸어간 산책자', 0.9439880737307584, 0.9987054467201233], ['땁품있 굥오수 ( 주 )', 0.08666214182588361, 0.696468194325765]]\n",
      "[['미식견문록', 0.1213885592633881, 0.960632860660553], ['- njrTJ마그며5', 0.03166313738346259, 0.40880003571510315]]\n",
      "[['사랑의기술', 0.03226746560136462, 0.9766374826431274], ['놋임이히 R사및', 0.02182336785140006, 0.691060483455658]]\n",
      "[['몬신부로쾨의 우아하게가난해지는법', 0.1474162284728513, 0.8529028296470642], ['쓻롭보조일으를 국올즈시표', 0.34966869815996837, 0.5729040503501892]]\n",
      "[['다정한 무관심', 0.13694115558667808, 0.997781366109848], ['퐁흘 화읍화 놉업과 마업시', 0.09658491231695636, 0.5358102818330129]]\n",
      "[['빅더 프랭클의 죽음의 수용소에서', 0.7032599860865024, 0.9731995165348053], ['뽕읍보군육을조', 0.01266931170288732, 0.42329567670822144]]\n"
     ]
    }
   ],
   "source": [
    "results = []\n",
    "title_list = []\n",
    "for img in cropped_img_list:\n",
    "    tb_list, rt_tb_list = td.crop_all(img)\n",
    "\n",
    "    # 원본 이미지\n",
    "    text_box_list, td_prob_list, _etc_box, _etc_probs = tb_list\n",
    "    title_text_list, tr_prob_list = tr.get_title(text_box_list)\n",
    "    title_text = \" \".join(title_text_list)\n",
    "    original_set = [title_text, np.mean(td_prob_list), np.mean(tr_prob_list)]\n",
    "\n",
    "    # 회전한 이미지\n",
    "    rt_text_box_list, rt_td_prob_list, _rt_etc_box, _rt_etc_probs = rt_tb_list\n",
    "    rt_title_text_list, rt_tr_prob_list = tr.get_title(rt_text_box_list)\n",
    "    rt_title_text = \" \".join(rt_title_text_list)\n",
    "    rotated_set = [rt_title_text, np.mean(rt_td_prob_list), np.mean(rt_tr_prob_list)]\n",
    "\n",
    "    # 결과 확인\n",
    "    res = sorted([original_set, rotated_set], key=lambda x: (x[2], x[1]), reverse=True)\n",
    "    print(res)\n",
    "    results.append(res)\n",
    "    title_list.append(res[0][0])"
   ]
  },
  {
   "cell_type": "code",
   "execution_count": null,
   "metadata": {},
   "outputs": [],
   "source": [
    "show_images(cropped_img_list)"
   ]
  },
  {
   "cell_type": "code",
   "execution_count": 24,
   "metadata": {},
   "outputs": [
    {
     "data": {
      "text/plain": [
       "['재즈의 계절',\n",
       " '리추열',\n",
       " '세상 바보 웃연시 화내는 방법',\n",
       " '남극으로 걸어간 산책자',\n",
       " '미식견문록',\n",
       " '사랑의기술',\n",
       " '몬신부로쾨의 우아하게가난해지는법',\n",
       " '다정한 무관심',\n",
       " '빅더 프랭클의 죽음의 수용소에서']"
      ]
     },
     "execution_count": 24,
     "metadata": {},
     "output_type": "execute_result"
    }
   ],
   "source": [
    "temp_list"
   ]
  }
 ],
 "metadata": {
  "kernelspec": {
   "display_name": "chch",
   "language": "python",
   "name": "python3"
  },
  "language_info": {
   "codemirror_mode": {
    "name": "ipython",
    "version": 3
   },
   "file_extension": ".py",
   "mimetype": "text/x-python",
   "name": "python",
   "nbconvert_exporter": "python",
   "pygments_lexer": "ipython3",
   "version": "3.12.5"
  }
 },
 "nbformat": 4,
 "nbformat_minor": 2
}
