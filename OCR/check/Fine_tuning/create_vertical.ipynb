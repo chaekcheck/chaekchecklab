{
 "cells": [
  {
   "cell_type": "code",
   "execution_count": 1,
   "metadata": {},
   "outputs": [],
   "source": [
    "from PIL import Image, ImageDraw, ImageFont"
   ]
  },
  {
   "cell_type": "code",
   "execution_count": 2,
   "metadata": {},
   "outputs": [],
   "source": [
    "def create_vertical_text_image(text, output_path):\n",
    "    img = Image.new('RGB', (200, 600), color='white')  # 이미지 크기 설정\n",
    "    draw = ImageDraw.Draw(img)\n",
    "\n",
    "    # 세로쓰기 텍스트 그리기\n",
    "    for i, char in enumerate(text):\n",
    "        draw.text((100, 50 + i * 50), char, fill='black')  # 기본 폰트 사용\n",
    "\n",
    "    img.save(output_path)"
   ]
  },
  {
   "cell_type": "code",
   "execution_count": 4,
   "metadata": {},
   "outputs": [],
   "source": [
    "with open('output.txt', 'w', encoding='utf-8') as f:\n",
    "    f.write('안녕하세요')"
   ]
  },
  {
   "cell_type": "code",
   "execution_count": 5,
   "metadata": {},
   "outputs": [],
   "source": [
    "# 세로쓰기를 위한 이미지 생성 함수\n",
    "def create_vertical_text_image(text, font_path, output_path):\n",
    "    # 이미지 크기 설정 (가로, 세로)\n",
    "    img_width = 200\n",
    "    img_height = 600\n",
    "    img = Image.new('RGB', (img_width, img_height), color='white')  # 흰색 배경\n",
    "    draw = ImageDraw.Draw(img)\n",
    "\n",
    "    # 폰트 설정 (폰트 경로와 크기 조정)\n",
    "    font = ImageFont.truetype(font_path, 50)\n",
    "\n",
    "    # 세로쓰기 텍스트 그리기\n",
    "    for i, char in enumerate(text):\n",
    "        # 각 문자의 위치 조정 (x, y)\n",
    "        draw.text((100, 50 + i * 50), char, fill='black', font=font)\n",
    "\n",
    "    # 이미지 저장 (UTF-8 인코딩된 파일명 사용)\n",
    "    img.save(output_path)\n",
    "\n",
    "# 사용 예\n",
    "if __name__ == \"__main__\":\n",
    "    # 세로쓰기에 사용할 텍스트와 파일 경로\n",
    "    text = '안녕하세요'\n",
    "    font_path = 'path_to_your_font.ttf'  # 사용하고자 하는 폰트 파일 경로\n",
    "    output_path = '출력_이미지.png'  # 출력 이미지 파일명\n",
    "\n"
   ]
  },
  {
   "cell_type": "code",
   "execution_count": 6,
   "metadata": {},
   "outputs": [],
   "source": [
    "\n",
    "create_vertical_text_image(text, 'malgun.ttf', output_path)"
   ]
  },
  {
   "cell_type": "code",
   "execution_count": 8,
   "metadata": {},
   "outputs": [
    {
     "name": "stdout",
     "output_type": "stream",
     "text": [
      "Collecting trdg\n",
      "  Downloading trdg-1.8.0-py3-none-any.whl.metadata (9.0 kB)\n",
      "Requirement already satisfied: pillow>=7.0.0 in c:\\users\\mysorol\\anaconda3\\envs\\ocr\\lib\\site-packages (from trdg) (9.5.0)\n",
      "Requirement already satisfied: requests>=2.20.0 in c:\\users\\mysorol\\anaconda3\\envs\\ocr\\lib\\site-packages (from trdg) (2.32.3)\n",
      "Requirement already satisfied: opencv-python>=4.2.0.32 in c:\\users\\mysorol\\anaconda3\\envs\\ocr\\lib\\site-packages (from trdg) (4.10.0.84)\n",
      "Requirement already satisfied: tqdm>=4.23.0 in c:\\users\\mysorol\\anaconda3\\envs\\ocr\\lib\\site-packages (from trdg) (4.66.5)\n",
      "Collecting wikipedia>=1.4.0 (from trdg)\n",
      "  Downloading wikipedia-1.4.0.tar.gz (27 kB)\n",
      "  Preparing metadata (setup.py): started\n",
      "  Preparing metadata (setup.py): finished with status 'done'\n",
      "Collecting diffimg==0.2.3 (from trdg)\n",
      "  Downloading diffimg-0.2.3.tar.gz (4.1 kB)\n",
      "  Preparing metadata (setup.py): started\n",
      "  Preparing metadata (setup.py): finished with status 'done'\n",
      "Collecting arabic-reshaper==2.1.3 (from trdg)\n",
      "  Downloading arabic_reshaper-2.1.3-py3-none-any.whl.metadata (12 kB)\n",
      "INFO: pip is looking at multiple versions of trdg to determine which version is compatible with other requirements. This could take a while.\n",
      "Collecting trdg\n",
      "  Downloading trdg-1.7.0-py3-none-any.whl.metadata (9.0 kB)\n",
      "Collecting numpy<1.17,>=1.16.4 (from trdg)\n",
      "  Downloading numpy-1.16.6.zip (5.1 MB)\n",
      "     ---------------------------------------- 0.0/5.1 MB ? eta -:--:--\n",
      "     ---------------------------------------- 5.1/5.1 MB 44.8 MB/s eta 0:00:00\n",
      "  Preparing metadata (setup.py): started\n",
      "  Preparing metadata (setup.py): finished with status 'done'\n",
      "Requirement already satisfied: beautifulsoup4>=4.6.0 in c:\\users\\mysorol\\anaconda3\\envs\\ocr\\lib\\site-packages (from trdg) (4.12.3)\n",
      "Requirement already satisfied: soupsieve>1.2 in c:\\users\\mysorol\\anaconda3\\envs\\ocr\\lib\\site-packages (from beautifulsoup4>=4.6.0->trdg) (2.5)\n",
      "INFO: pip is looking at multiple versions of opencv-python to determine which version is compatible with other requirements. This could take a while.\n",
      "Collecting opencv-python>=4.2.0.32 (from trdg)\n",
      "  Downloading opencv_python-4.10.0.82-cp37-abi3-win_amd64.whl.metadata (20 kB)\n",
      "  Downloading opencv_python-4.9.0.80-cp37-abi3-win_amd64.whl.metadata (20 kB)\n",
      "  Downloading opencv_python-4.8.1.78-cp37-abi3-win_amd64.whl.metadata (20 kB)\n",
      "  Downloading opencv_python-4.8.0.76-cp37-abi3-win_amd64.whl.metadata (20 kB)\n",
      "  Downloading opencv_python-4.8.0.74-cp37-abi3-win_amd64.whl.metadata (19 kB)\n",
      "  Downloading opencv_python-4.7.0.72-cp37-abi3-win_amd64.whl.metadata (18 kB)\n",
      "  Downloading opencv_python-4.6.0.66-cp36-abi3-win_amd64.whl.metadata (18 kB)\n",
      "INFO: pip is still looking at multiple versions of opencv-python to determine which version is compatible with other requirements. This could take a while.\n",
      "  Downloading opencv_python-4.5.5.64-cp36-abi3-win_amd64.whl.metadata (18 kB)\n",
      "  Downloading opencv-python-4.5.4.60.tar.gz (89.8 MB)\n",
      "     ---------------------------------------- 0.0/89.8 MB ? eta -:--:--\n",
      "     ---- ----------------------------------- 9.7/89.8 MB 46.5 MB/s eta 0:00:02\n",
      "     ----- --------------------------------- 12.8/89.8 MB 29.8 MB/s eta 0:00:03\n",
      "     ---------- ---------------------------- 23.9/89.8 MB 36.8 MB/s eta 0:00:02\n",
      "     --------------- ----------------------- 36.7/89.8 MB 43.2 MB/s eta 0:00:02\n",
      "     ---------------- ---------------------- 39.1/89.8 MB 40.0 MB/s eta 0:00:02\n",
      "     -------------------- ------------------ 48.0/89.8 MB 37.2 MB/s eta 0:00:02\n",
      "     -------------------------- ------------ 60.3/89.8 MB 40.0 MB/s eta 0:00:01\n",
      "     ------------------------------ -------- 69.2/89.8 MB 42.0 MB/s eta 0:00:01\n",
      "     -------------------------------- ------ 73.7/89.8 MB 38.5 MB/s eta 0:00:01\n",
      "     ------------------------------------- - 85.7/89.8 MB 40.2 MB/s eta 0:00:01\n",
      "     --------------------------------------- 89.8/89.8 MB 39.2 MB/s eta 0:00:00\n",
      "  Installing build dependencies: started\n",
      "  Installing build dependencies: finished with status 'error'\n",
      "Note: you may need to restart the kernel to use updated packages.\n"
     ]
    },
    {
     "name": "stderr",
     "output_type": "stream",
     "text": [
      "WARNING: Ignoring version 2.1.3 of arabic-reshaper since it has invalid metadata:\n",
      "Requested arabic-reshaper==2.1.3 from https://files.pythonhosted.org/packages/47/27/7b9b824f5342d8ee180027333f2e15842ea36f5bc2d3d24a4e6bb31fb596/arabic_reshaper-2.1.3-py3-none-any.whl (from trdg) has invalid metadata: Expected matching RIGHT_PARENTHESIS for LEFT_PARENTHESIS, after version specifier\n",
      "    fonttools (>=3.0<4.0) ; (python_version < \"3\") and extra == 'with-fonttools'\n",
      "              ~~~~~~^\n",
      "Please use pip<24.1 if you need to use this version.\n",
      "  error: subprocess-exited-with-error\n",
      "  \n",
      "  × pip subprocess to install build dependencies did not run successfully.\n",
      "  │ exit code: 1\n",
      "  ╰─> [19 lines of output]\n",
      "      Ignoring numpy: markers 'python_version == \"3.6\" and platform_machine != \"aarch64\" and platform_machine != \"arm64\"' don't match your environment\n",
      "      Ignoring numpy: markers 'python_version == \"3.7\" and platform_machine != \"aarch64\" and platform_machine != \"arm64\"' don't match your environment\n",
      "      Ignoring numpy: markers 'python_version == \"3.8\" and platform_machine != \"aarch64\" and platform_machine != \"arm64\"' don't match your environment\n",
      "      Ignoring numpy: markers 'python_version <= \"3.9\" and sys_platform == \"linux\" and platform_machine == \"aarch64\"' don't match your environment\n",
      "      Ignoring numpy: markers 'python_version <= \"3.9\" and sys_platform == \"darwin\" and platform_machine == \"arm64\"' don't match your environment\n",
      "      Ignoring numpy: markers 'python_version == \"3.9\" and platform_machine != \"aarch64\" and platform_machine != \"arm64\"' don't match your environment\n",
      "      Collecting setuptools\n",
      "        Downloading setuptools-75.1.0-py3-none-any.whl.metadata (6.9 kB)\n",
      "      Collecting wheel\n",
      "        Downloading wheel-0.44.0-py3-none-any.whl.metadata (2.3 kB)\n",
      "      Collecting scikit-build\n",
      "        Downloading scikit_build-0.18.1-py3-none-any.whl.metadata (18 kB)\n",
      "      Collecting cmake\n",
      "        Downloading cmake-3.30.4-py3-none-win_amd64.whl.metadata (6.4 kB)\n",
      "      Collecting pip\n",
      "        Downloading pip-24.2-py3-none-any.whl.metadata (3.6 kB)\n",
      "      ERROR: Ignored the following versions that require a different python version: 1.21.2 Requires-Python >=3.7,<3.11; 1.21.3 Requires-Python >=3.7,<3.11; 1.21.4 Requires-Python >=3.7,<3.11; 1.21.5 Requires-Python >=3.7,<3.11; 1.21.6 Requires-Python >=3.7,<3.11\n",
      "      ERROR: Could not find a version that satisfies the requirement numpy==1.21.2 (from versions: 1.3.0, 1.4.1, 1.5.0, 1.5.1, 1.6.0, 1.6.1, 1.6.2, 1.7.0, 1.7.1, 1.7.2, 1.8.0, 1.8.1, 1.8.2, 1.9.0, 1.9.1, 1.9.2, 1.9.3, 1.10.0.post2, 1.10.1, 1.10.2, 1.10.4, 1.11.0, 1.11.1, 1.11.2, 1.11.3, 1.12.0, 1.12.1, 1.13.0, 1.13.1, 1.13.3, 1.14.0, 1.14.1, 1.14.2, 1.14.3, 1.14.4, 1.14.5, 1.14.6, 1.15.0, 1.15.1, 1.15.2, 1.15.3, 1.15.4, 1.16.0, 1.16.1, 1.16.2, 1.16.3, 1.16.4, 1.16.5, 1.16.6, 1.17.0, 1.17.1, 1.17.2, 1.17.3, 1.17.4, 1.17.5, 1.18.0, 1.18.1, 1.18.2, 1.18.3, 1.18.4, 1.18.5, 1.19.0, 1.19.1, 1.19.2, 1.19.3, 1.19.4, 1.19.5, 1.20.0, 1.20.1, 1.20.2, 1.20.3, 1.21.0, 1.21.1, 1.22.0, 1.22.1, 1.22.2, 1.22.3, 1.22.4, 1.23.0, 1.23.1, 1.23.2, 1.23.3, 1.23.4, 1.23.5, 1.24.0, 1.24.1, 1.24.2, 1.24.3, 1.24.4, 1.25.0, 1.25.1, 1.25.2, 1.26.0, 1.26.1, 1.26.2, 1.26.3, 1.26.4, 2.0.0, 2.0.1, 2.0.2, 2.1.0rc1, 2.1.0, 2.1.1)\n",
      "      ERROR: No matching distribution found for numpy==1.21.2\n",
      "      [end of output]\n",
      "  \n",
      "  note: This error originates from a subprocess, and is likely not a problem with pip.\n",
      "error: subprocess-exited-with-error\n",
      "\n",
      "× pip subprocess to install build dependencies did not run successfully.\n",
      "│ exit code: 1\n",
      "╰─> See above for output.\n",
      "\n",
      "note: This error originates from a subprocess, and is likely not a problem with pip.\n"
     ]
    }
   ],
   "source": [
    "# TextRecognitionDataGenerator 사용 데이터셋 만들기 \n",
    "%pip install trdg"
   ]
  },
  {
   "cell_type": "code",
   "execution_count": null,
   "metadata": {},
   "outputs": [],
   "source": []
  }
 ],
 "metadata": {
  "kernelspec": {
   "display_name": "ocr",
   "language": "python",
   "name": "python3"
  },
  "language_info": {
   "codemirror_mode": {
    "name": "ipython",
    "version": 3
   },
   "file_extension": ".py",
   "mimetype": "text/x-python",
   "name": "python",
   "nbconvert_exporter": "python",
   "pygments_lexer": "ipython3",
   "version": "3.11.9"
  }
 },
 "nbformat": 4,
 "nbformat_minor": 2
}
