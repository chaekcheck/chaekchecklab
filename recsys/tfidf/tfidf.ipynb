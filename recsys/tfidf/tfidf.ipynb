{
 "cells": [
  {
   "cell_type": "code",
   "execution_count": 1,
   "metadata": {},
   "outputs": [],
   "source": [
    "import pandas as pd\n",
    "from sklearn.feature_extraction.text import TfidfVectorizer\n",
    "from sklearn.metrics.pairwise import cosine_similarity\n",
    "import numpy as np"
   ]
  },
  {
   "cell_type": "code",
   "execution_count": 6,
   "metadata": {},
   "outputs": [],
   "source": [
    "df = pd.read_csv(r'D:\\python_project\\chaekchecklab\\data\\emb_value.csv', index_col=0)\n",
    "# df"
   ]
  },
  {
   "cell_type": "code",
   "execution_count": 4,
   "metadata": {},
   "outputs": [],
   "source": [
    "from scipy.sparse import load_npz\n",
    "\n",
    "# csr_matrix 불러오기\n",
    "tfidf_matrix = load_npz(r'D:\\python_project\\chaekchecklab\\data\\tfidf_matrix.npz')\n",
    "\n",
    "# print(tfidf_matrix)"
   ]
  },
  {
   "cell_type": "code",
   "execution_count": 5,
   "metadata": {},
   "outputs": [
    {
     "data": {
      "text/html": [
       "<div>\n",
       "<style scoped>\n",
       "    .dataframe tbody tr th:only-of-type {\n",
       "        vertical-align: middle;\n",
       "    }\n",
       "\n",
       "    .dataframe tbody tr th {\n",
       "        vertical-align: top;\n",
       "    }\n",
       "\n",
       "    .dataframe thead th {\n",
       "        text-align: right;\n",
       "    }\n",
       "</style>\n",
       "<table border=\"1\" class=\"dataframe\">\n",
       "  <thead>\n",
       "    <tr style=\"text-align: right;\">\n",
       "      <th></th>\n",
       "      <th>title</th>\n",
       "      <th>similarity</th>\n",
       "    </tr>\n",
       "  </thead>\n",
       "  <tbody>\n",
       "    <tr>\n",
       "      <th>18619</th>\n",
       "      <td>회계 천재가 된 홍대리 1</td>\n",
       "      <td>0.744712</td>\n",
       "    </tr>\n",
       "    <tr>\n",
       "      <th>49304</th>\n",
       "      <td>세상에서 가장 쉬운 회계책</td>\n",
       "      <td>0.386363</td>\n",
       "    </tr>\n",
       "    <tr>\n",
       "      <th>45590</th>\n",
       "      <td>굿 타이밍</td>\n",
       "      <td>0.152103</td>\n",
       "    </tr>\n",
       "    <tr>\n",
       "      <th>33998</th>\n",
       "      <td>사람을 얻는 질문법 38</td>\n",
       "      <td>0.117868</td>\n",
       "    </tr>\n",
       "    <tr>\n",
       "      <th>28718</th>\n",
       "      <td>40대 다시 한 번 도전에 미쳐라</td>\n",
       "      <td>0.100085</td>\n",
       "    </tr>\n",
       "    <tr>\n",
       "      <th>45416</th>\n",
       "      <td>돈 잘 버는 회사의 명쾌한 절세비법</td>\n",
       "      <td>0.075945</td>\n",
       "    </tr>\n",
       "    <tr>\n",
       "      <th>44992</th>\n",
       "      <td>기사되는 보도자료 만들기</td>\n",
       "      <td>0.069178</td>\n",
       "    </tr>\n",
       "  </tbody>\n",
       "</table>\n",
       "</div>"
      ],
      "text/plain": [
       "                     title  similarity\n",
       "18619       회계 천재가 된 홍대리 1    0.744712\n",
       "49304       세상에서 가장 쉬운 회계책    0.386363\n",
       "45590                굿 타이밍    0.152103\n",
       "33998        사람을 얻는 질문법 38    0.117868\n",
       "28718   40대 다시 한 번 도전에 미쳐라    0.100085\n",
       "45416  돈 잘 버는 회사의 명쾌한 절세비법    0.075945\n",
       "44992        기사되는 보도자료 만들기    0.069178"
      ]
     },
     "execution_count": 5,
     "metadata": {},
     "output_type": "execute_result"
    }
   ],
   "source": [
    "def get_related_books(q_book, df, tfidf_matrix, k1=2000, k2=10, alpha=0.5):\n",
    "    # $$$ 여기서 예외처리 필요\n",
    "    q_idx = df[df['title'] == q_book].index[0]\n",
    "    cosine_sim_1 = cosine_similarity(tfidf_matrix[q_idx], tfidf_matrix).flatten()\n",
    "\n",
    "    # 유사도 top_k1 인덱스들\n",
    "    # similar_book_idxes = cosine_sim_1.argsort()[-(k1+1):][::-1]\n",
    "    similar_k1_idxes = cosine_sim_1.argpartition(-(k1+1))[-(k1+1):]\n",
    "    df_top_k1 = df.loc[similar_k1_idxes]\n",
    "    # df_top_k1['similarity'] = cosine_sim_1[similar_book_idxes]\n",
    "    tfidf_top_k1 = tfidf_matrix[similar_k1_idxes, :].toarray()\n",
    "\n",
    "    # MMR\n",
    "    cosine_sim_2 = cosine_similarity(tfidf_top_k1, tfidf_top_k1)\n",
    "\n",
    "    # 쿼리 책 & 유사도\n",
    "    np_idx = np.argwhere(similar_k1_idxes==q_idx).flatten()[0]\n",
    "    sim_scores = cosine_sim_2[np_idx]\n",
    "\n",
    "    # MMR을 위한 초기 후보 목록 생성\n",
    "    recommended_indexes = []\n",
    "    ranked_indices = np.argsort(sim_scores)[::-1]  # 내림차순 정렬\n",
    "\n",
    "    # MMR Search\n",
    "    for i in ranked_indices[1:]:\n",
    "        if len(recommended_indexes) >= k2:\n",
    "            break\n",
    "        \n",
    "        if i not in recommended_indexes:\n",
    "            # MMR 계산\n",
    "            relevance_score = sim_scores[i]\n",
    "            diversity_score = sum(cosine_sim_2[i][j] for j in recommended_indexes) if recommended_indexes else 0\n",
    "            mmr_score = alpha * relevance_score - (1 - alpha) * diversity_score\n",
    "\n",
    "            # print(i, mmr_score, relevance_score, diversity_score)\n",
    "            # MMR 점수가 높은 항목 선택\n",
    "            if mmr_score > 0:\n",
    "                # print(i, df_top_k1.iloc[i, 0])\n",
    "                recommended_indexes.append(i)\n",
    "    \n",
    "    # 추천 결과 반환\n",
    "    recommended_books = df_top_k1.iloc[recommended_indexes].copy()\n",
    "    recommended_books['similarity'] = [sim_scores[i] for i in recommended_indexes]\n",
    "    return recommended_books[['title', 'similarity']]\n",
    "\n",
    "q_book = \"회계 천재가 된 홍대리\"\n",
    "res = get_related_books(q_book, df, tfidf_matrix)\n",
    "res"
   ]
  },
  {
   "cell_type": "markdown",
   "metadata": {},
   "source": [
    "책 여러 권 선택"
   ]
  },
  {
   "cell_type": "code",
   "execution_count": 8,
   "metadata": {},
   "outputs": [],
   "source": [
    "import math"
   ]
  },
  {
   "cell_type": "code",
   "execution_count": 17,
   "metadata": {},
   "outputs": [
    {
     "name": "stdout",
     "output_type": "stream",
     "text": [
      "'돈의 물리학'과 비슷한 책 찾는 중\n",
      "'회계 천재가 된 홍대리'과 비슷한 책 찾는 중\n",
      "'트렌드 코리아 2025'과 비슷한 책 찾는 중\n"
     ]
    }
   ],
   "source": [
    "q_book_list = ['돈의 물리학', '회계 천재가 된 홍대리', '트렌드 코리아 2025']\n",
    "k = 10\n",
    "n = len(q_book_list)\n",
    "bpk = math.ceil(k/n)\n",
    "\n",
    "results = []\n",
    "for q_book in q_book_list:\n",
    "    print(f\"'{q_book}'과 비슷한 책 찾는 중\")\n",
    "    result = get_related_books(q_book, df, tfidf_matrix)[:bpk]\n",
    "    results.append(result)\n",
    "\n",
    "df_result = pd.concat(results).iloc[:k, :]"
   ]
  },
  {
   "cell_type": "code",
   "execution_count": 18,
   "metadata": {},
   "outputs": [
    {
     "data": {
      "text/html": [
       "<div>\n",
       "<style scoped>\n",
       "    .dataframe tbody tr th:only-of-type {\n",
       "        vertical-align: middle;\n",
       "    }\n",
       "\n",
       "    .dataframe tbody tr th {\n",
       "        vertical-align: top;\n",
       "    }\n",
       "\n",
       "    .dataframe thead th {\n",
       "        text-align: right;\n",
       "    }\n",
       "</style>\n",
       "<table border=\"1\" class=\"dataframe\">\n",
       "  <thead>\n",
       "    <tr style=\"text-align: right;\">\n",
       "      <th></th>\n",
       "      <th>title</th>\n",
       "      <th>similarity</th>\n",
       "    </tr>\n",
       "  </thead>\n",
       "  <tbody>\n",
       "    <tr>\n",
       "      <th>6075</th>\n",
       "      <td>퀀트의 세계</td>\n",
       "      <td>0.488969</td>\n",
       "    </tr>\n",
       "    <tr>\n",
       "      <th>5745</th>\n",
       "      <td>절대적이며 상대적인 리더십의 물리학</td>\n",
       "      <td>0.210316</td>\n",
       "    </tr>\n",
       "    <tr>\n",
       "      <th>2469</th>\n",
       "      <td>헤지펀드 열전</td>\n",
       "      <td>0.203786</td>\n",
       "    </tr>\n",
       "    <tr>\n",
       "      <th>18883</th>\n",
       "      <td>예측, 일단 의심하라</td>\n",
       "      <td>0.193973</td>\n",
       "    </tr>\n",
       "    <tr>\n",
       "      <th>18619</th>\n",
       "      <td>회계 천재가 된 홍대리 1</td>\n",
       "      <td>0.744712</td>\n",
       "    </tr>\n",
       "    <tr>\n",
       "      <th>49304</th>\n",
       "      <td>세상에서 가장 쉬운 회계책</td>\n",
       "      <td>0.386363</td>\n",
       "    </tr>\n",
       "    <tr>\n",
       "      <th>45590</th>\n",
       "      <td>굿 타이밍</td>\n",
       "      <td>0.152103</td>\n",
       "    </tr>\n",
       "    <tr>\n",
       "      <th>33998</th>\n",
       "      <td>사람을 얻는 질문법 38</td>\n",
       "      <td>0.117868</td>\n",
       "    </tr>\n",
       "    <tr>\n",
       "      <th>32291</th>\n",
       "      <td>희망 PLUS 멘토 열풍</td>\n",
       "      <td>0.220040</td>\n",
       "    </tr>\n",
       "    <tr>\n",
       "      <th>35516</th>\n",
       "      <td>스마트하지 않은 스마트 전쟁</td>\n",
       "      <td>0.205924</td>\n",
       "    </tr>\n",
       "  </tbody>\n",
       "</table>\n",
       "</div>"
      ],
      "text/plain": [
       "                     title  similarity\n",
       "6075                퀀트의 세계    0.488969\n",
       "5745   절대적이며 상대적인 리더십의 물리학    0.210316\n",
       "2469               헤지펀드 열전    0.203786\n",
       "18883          예측, 일단 의심하라    0.193973\n",
       "18619       회계 천재가 된 홍대리 1    0.744712\n",
       "49304       세상에서 가장 쉬운 회계책    0.386363\n",
       "45590                굿 타이밍    0.152103\n",
       "33998        사람을 얻는 질문법 38    0.117868\n",
       "32291        희망 PLUS 멘토 열풍    0.220040\n",
       "35516      스마트하지 않은 스마트 전쟁    0.205924"
      ]
     },
     "execution_count": 18,
     "metadata": {},
     "output_type": "execute_result"
    }
   ],
   "source": [
    "df_result"
   ]
  },
  {
   "cell_type": "markdown",
   "metadata": {},
   "source": [
    "### 이전 작업 기록"
   ]
  },
  {
   "cell_type": "code",
   "execution_count": 3,
   "metadata": {},
   "outputs": [],
   "source": [
    "# TF-IDF 벡터화\n",
    "vectorizer = TfidfVectorizer()\n",
    "tfidf_matrix = vectorizer.fit_transform(df['책소개_토큰'])"
   ]
  },
  {
   "cell_type": "code",
   "execution_count": 10,
   "metadata": {},
   "outputs": [],
   "source": [
    "from scipy.sparse import save_npz\n",
    "\n",
    "# csr_matrix(sparse_matrix) 저장\n",
    "save_npz('tfidf_matrix.npz', tfidf_matrix)"
   ]
  },
  {
   "cell_type": "markdown",
   "metadata": {},
   "source": [
    "유사도 랭킹 후 1차 컷"
   ]
  },
  {
   "cell_type": "code",
   "execution_count": 99,
   "metadata": {},
   "outputs": [
    {
     "data": {
      "text/plain": [
       "array([42498,  5876, 42324, ..., 49946, 49944, 52112], dtype=int64)"
      ]
     },
     "execution_count": 99,
     "metadata": {},
     "output_type": "execute_result"
    }
   ],
   "source": [
    "# 쿼리 책에 대하여, 모든 책들과의 코사인 유사도 계산\n",
    "q_book = \"회계 천재가 된 홍대리\"\n",
    "k1 = 2000\n",
    "\n",
    "q_idx = df[df['title'] == q_book].index[0]\n",
    "cosine_sim_1 = cosine_similarity(tfidf_matrix[q_idx], tfidf_matrix).flatten()\n",
    "# similar_book_idxes = cosine_sim_1.argsort()[-(k1+1):][::-1]\n",
    "similar_book_idxes = cosine_sim_1.argpartition(-(k1+1))[-(k1+1):]\n",
    "similar_book_idxes"
   ]
  },
  {
   "cell_type": "code",
   "execution_count": 100,
   "metadata": {},
   "outputs": [
    {
     "data": {
      "text/html": [
       "<div>\n",
       "<style scoped>\n",
       "    .dataframe tbody tr th:only-of-type {\n",
       "        vertical-align: middle;\n",
       "    }\n",
       "\n",
       "    .dataframe tbody tr th {\n",
       "        vertical-align: top;\n",
       "    }\n",
       "\n",
       "    .dataframe thead th {\n",
       "        text-align: right;\n",
       "    }\n",
       "</style>\n",
       "<table border=\"1\" class=\"dataframe\">\n",
       "  <thead>\n",
       "    <tr style=\"text-align: right;\">\n",
       "      <th></th>\n",
       "      <th>title</th>\n",
       "      <th>full_name</th>\n",
       "      <th>book_url</th>\n",
       "      <th>publisher</th>\n",
       "      <th>author_list</th>\n",
       "      <th>intro</th>\n",
       "      <th>category</th>\n",
       "      <th>date</th>\n",
       "      <th>pages</th>\n",
       "      <th>isbn</th>\n",
       "      <th>저자</th>\n",
       "      <th>역자</th>\n",
       "      <th>기타</th>\n",
       "      <th>책소개_토큰</th>\n",
       "      <th>embedding_책소개</th>\n",
       "      <th>similarity</th>\n",
       "    </tr>\n",
       "  </thead>\n",
       "  <tbody>\n",
       "    <tr>\n",
       "      <th>42498</th>\n",
       "      <td>마케팅코드</td>\n",
       "      <td>마케팅코드 소설로 읽는 마케팅 이야기</td>\n",
       "      <td>https://www.yes24.com/Product/Goods/3001590</td>\n",
       "      <td>21세기북스</td>\n",
       "      <td>[['스티븐 브라운', '119220']]</td>\n",
       "      <td>포스트모던 마케팅으로 마케팅에 새로운 패러다임을 제시했던 괴짜 마케팅학자 스티븐 브...</td>\n",
       "      <td>1001025009001</td>\n",
       "      <td>2008-06-25</td>\n",
       "      <td>583쪽</td>\n",
       "      <td>9788935211012</td>\n",
       "      <td>스티븐 브라운</td>\n",
       "      <td>NaN</td>\n",
       "      <td>NaN</td>\n",
       "      <td>['포스트', '모던', '마케팅', '마케팅', '새로운', '패러다임', '제시...</td>\n",
       "      <td>[ 0.11396833  0.5989598  -0.03949952 -0.302230...</td>\n",
       "      <td>0.059438</td>\n",
       "    </tr>\n",
       "    <tr>\n",
       "      <th>5876</th>\n",
       "      <td>리더의 시, 리더의 격</td>\n",
       "      <td>리더의 시, 리더의 격 탁월한 리더를 위한 인문 경영 바이블    [ 양장 ]</td>\n",
       "      <td>https://www.yes24.com/Product/Goods/114913747</td>\n",
       "      <td>한국경제신문사(한경비피)</td>\n",
       "      <td>[['고두현', '94558'], ['황태인', '405862']]</td>\n",
       "      <td>시에서 발견한 삶의 지혜 경영에서 깨달은 일의 품격감성적인 시와 스토리에 의 경영 ...</td>\n",
       "      <td>1001025001001</td>\n",
       "      <td>2022-10-28</td>\n",
       "      <td>312쪽</td>\n",
       "      <td>9788965961932</td>\n",
       "      <td>고두현,황태인</td>\n",
       "      <td>NaN</td>\n",
       "      <td>NaN</td>\n",
       "      <td>['시', '발견', '한', '삶', '지혜', '경영', '깨달', '일', '...</td>\n",
       "      <td>[-0.27416667  0.6174609   0.24831763  0.066118...</td>\n",
       "      <td>0.059455</td>\n",
       "    </tr>\n",
       "  </tbody>\n",
       "</table>\n",
       "</div>"
      ],
      "text/plain": [
       "              title                                    full_name  \\\n",
       "42498         마케팅코드                         마케팅코드 소설로 읽는 마케팅 이야기   \n",
       "5876   리더의 시, 리더의 격  리더의 시, 리더의 격 탁월한 리더를 위한 인문 경영 바이블    [ 양장 ]   \n",
       "\n",
       "                                            book_url      publisher  \\\n",
       "42498    https://www.yes24.com/Product/Goods/3001590         21세기북스   \n",
       "5876   https://www.yes24.com/Product/Goods/114913747  한국경제신문사(한경비피)   \n",
       "\n",
       "                                 author_list  \\\n",
       "42498                [['스티븐 브라운', '119220']]   \n",
       "5876   [['고두현', '94558'], ['황태인', '405862']]   \n",
       "\n",
       "                                                   intro       category  \\\n",
       "42498  포스트모던 마케팅으로 마케팅에 새로운 패러다임을 제시했던 괴짜 마케팅학자 스티븐 브...  1001025009001   \n",
       "5876   시에서 발견한 삶의 지혜 경영에서 깨달은 일의 품격감성적인 시와 스토리에 의 경영 ...  1001025001001   \n",
       "\n",
       "             date pages           isbn       저자   역자   기타  \\\n",
       "42498  2008-06-25  583쪽  9788935211012  스티븐 브라운  NaN  NaN   \n",
       "5876   2022-10-28  312쪽  9788965961932  고두현,황태인  NaN  NaN   \n",
       "\n",
       "                                                  책소개_토큰  \\\n",
       "42498  ['포스트', '모던', '마케팅', '마케팅', '새로운', '패러다임', '제시...   \n",
       "5876   ['시', '발견', '한', '삶', '지혜', '경영', '깨달', '일', '...   \n",
       "\n",
       "                                           embedding_책소개  similarity  \n",
       "42498  [ 0.11396833  0.5989598  -0.03949952 -0.302230...    0.059438  \n",
       "5876   [-0.27416667  0.6174609   0.24831763  0.066118...    0.059455  "
      ]
     },
     "execution_count": 100,
     "metadata": {},
     "output_type": "execute_result"
    }
   ],
   "source": [
    "# 추천 결과와 유사도 점수를 함께 반환\n",
    "df_top_k1 = df.iloc[similar_book_idxes].copy()\n",
    "df_top_k1['similarity'] = cosine_sim_1[similar_book_idxes]\n",
    "df_top_k1.head(2)"
   ]
  },
  {
   "cell_type": "markdown",
   "metadata": {},
   "source": [
    "MMR"
   ]
  },
  {
   "cell_type": "code",
   "execution_count": 102,
   "metadata": {},
   "outputs": [],
   "source": [
    "tfidf_top_k1 = tfidf_matrix[similar_book_idxes, :].toarray()\n",
    "\n",
    "cosine_sim_2 = cosine_similarity(tfidf_top_k1, tfidf_top_k1)"
   ]
  },
  {
   "cell_type": "code",
   "execution_count": 124,
   "metadata": {},
   "outputs": [],
   "source": [
    "k2 = 10\n",
    "alpha = 0.5\n",
    "\n",
    "# 쿼리 책 & 그에 대한 유사도\n",
    "idx = np.argwhere(similar_book_idxes==q_idx).flatten()[0]\n",
    "# 쿼리 책에 대한 유사도\n",
    "scores = cosine_sim_2[idx]\n",
    "\n",
    "# MMR을 위한 초기 후보 목록 생성\n",
    "recommended_indexes = []\n",
    "ranked_indices = np.argsort(scores)[::-1]  # 내림차순 정렬\n",
    "\n",
    "# MMR\n",
    "for i in ranked_indices[1:]:\n",
    "    if len(recommended_indexes) >= k2:\n",
    "        break\n",
    "    \n",
    "    if i not in recommended_indexes:\n",
    "        # MMR 계산\n",
    "        relevance_score = scores[i]\n",
    "        diversity_score = sum(cosine_sim_2[i][j] for j in recommended_indexes) if recommended_indexes else 0\n",
    "        mmr_score = alpha * relevance_score - (1 - alpha) * diversity_score\n",
    "\n",
    "        # print(i, mmr_score, relevance_score, diversity_score)\n",
    "        # MMR 점수가 높은 항목 선택\n",
    "        if mmr_score > 0:\n",
    "            # print(i, df_top_k1.iloc[i, 0])\n",
    "            recommended_indexes.append(i)\n",
    "\n",
    "# 추천 결과 반환\n",
    "recommended_books = df_top_k1.iloc[recommended_indexes].copy()\n",
    "recommended_books['similarity'] = [scores[i] for i in recommended_indexes]"
   ]
  },
  {
   "cell_type": "code",
   "execution_count": 128,
   "metadata": {},
   "outputs": [
    {
     "data": {
      "text/html": [
       "<div>\n",
       "<style scoped>\n",
       "    .dataframe tbody tr th:only-of-type {\n",
       "        vertical-align: middle;\n",
       "    }\n",
       "\n",
       "    .dataframe tbody tr th {\n",
       "        vertical-align: top;\n",
       "    }\n",
       "\n",
       "    .dataframe thead th {\n",
       "        text-align: right;\n",
       "    }\n",
       "</style>\n",
       "<table border=\"1\" class=\"dataframe\">\n",
       "  <thead>\n",
       "    <tr style=\"text-align: right;\">\n",
       "      <th></th>\n",
       "      <th>title</th>\n",
       "      <th>similarity</th>\n",
       "    </tr>\n",
       "  </thead>\n",
       "  <tbody>\n",
       "    <tr>\n",
       "      <th>18619</th>\n",
       "      <td>회계 천재가 된 홍대리 1</td>\n",
       "      <td>0.744712</td>\n",
       "    </tr>\n",
       "    <tr>\n",
       "      <th>49304</th>\n",
       "      <td>세상에서 가장 쉬운 회계책</td>\n",
       "      <td>0.386363</td>\n",
       "    </tr>\n",
       "    <tr>\n",
       "      <th>45590</th>\n",
       "      <td>굿 타이밍</td>\n",
       "      <td>0.152103</td>\n",
       "    </tr>\n",
       "    <tr>\n",
       "      <th>33998</th>\n",
       "      <td>사람을 얻는 질문법 38</td>\n",
       "      <td>0.117868</td>\n",
       "    </tr>\n",
       "    <tr>\n",
       "      <th>28718</th>\n",
       "      <td>40대 다시 한 번 도전에 미쳐라</td>\n",
       "      <td>0.100085</td>\n",
       "    </tr>\n",
       "    <tr>\n",
       "      <th>45416</th>\n",
       "      <td>돈 잘 버는 회사의 명쾌한 절세비법</td>\n",
       "      <td>0.075945</td>\n",
       "    </tr>\n",
       "    <tr>\n",
       "      <th>44992</th>\n",
       "      <td>기사되는 보도자료 만들기</td>\n",
       "      <td>0.069178</td>\n",
       "    </tr>\n",
       "  </tbody>\n",
       "</table>\n",
       "</div>"
      ],
      "text/plain": [
       "                     title  similarity\n",
       "18619       회계 천재가 된 홍대리 1    0.744712\n",
       "49304       세상에서 가장 쉬운 회계책    0.386363\n",
       "45590                굿 타이밍    0.152103\n",
       "33998        사람을 얻는 질문법 38    0.117868\n",
       "28718   40대 다시 한 번 도전에 미쳐라    0.100085\n",
       "45416  돈 잘 버는 회사의 명쾌한 절세비법    0.075945\n",
       "44992        기사되는 보도자료 만들기    0.069178"
      ]
     },
     "execution_count": 128,
     "metadata": {},
     "output_type": "execute_result"
    }
   ],
   "source": [
    "recommended_books[['title', 'similarity']]"
   ]
  },
  {
   "cell_type": "code",
   "execution_count": null,
   "metadata": {},
   "outputs": [],
   "source": []
  }
 ],
 "metadata": {
  "kernelspec": {
   "display_name": "recsys",
   "language": "python",
   "name": "python3"
  },
  "language_info": {
   "codemirror_mode": {
    "name": "ipython",
    "version": 3
   },
   "file_extension": ".py",
   "mimetype": "text/x-python",
   "name": "python",
   "nbconvert_exporter": "python",
   "pygments_lexer": "ipython3",
   "version": "3.10.15"
  }
 },
 "nbformat": 4,
 "nbformat_minor": 2
}
