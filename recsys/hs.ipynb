{
 "cells": [
  {
   "cell_type": "code",
   "execution_count": 1,
   "metadata": {},
   "outputs": [],
   "source": [
    "from haystack.document_stores import FAISSDocumentStore\n",
    "from haystack.nodes import EmbeddingRetriever\n",
    "from transformers import AutoTokenizer, AutoModel\n",
    "\n",
    "import pandas as pd\n",
    "import numpy as np"
   ]
  },
  {
   "cell_type": "code",
   "execution_count": 2,
   "metadata": {},
   "outputs": [],
   "source": [
    "df = pd.read_csv(r\"D:\\python_project\\chaekchecklab\\data\\merge_001001025006.csv\", index_col=0)"
   ]
  },
  {
   "cell_type": "code",
   "execution_count": 3,
   "metadata": {},
   "outputs": [
    {
     "data": {
      "text/html": [
       "<div>\n",
       "<style scoped>\n",
       "    .dataframe tbody tr th:only-of-type {\n",
       "        vertical-align: middle;\n",
       "    }\n",
       "\n",
       "    .dataframe tbody tr th {\n",
       "        vertical-align: top;\n",
       "    }\n",
       "\n",
       "    .dataframe thead th {\n",
       "        text-align: right;\n",
       "    }\n",
       "</style>\n",
       "<table border=\"1\" class=\"dataframe\">\n",
       "  <thead>\n",
       "    <tr style=\"text-align: right;\">\n",
       "      <th></th>\n",
       "      <th>title</th>\n",
       "      <th>full_name</th>\n",
       "      <th>book_url</th>\n",
       "      <th>authors</th>\n",
       "      <th>publisher</th>\n",
       "      <th>author_list</th>\n",
       "      <th>item_infos</th>\n",
       "      <th>cates</th>\n",
       "      <th>intro</th>\n",
       "    </tr>\n",
       "  </thead>\n",
       "  <tbody>\n",
       "    <tr>\n",
       "      <th>4</th>\n",
       "      <td>한국의 장기통계 2</td>\n",
       "      <td>한국의 장기통계 2   [ 반양장 ]</td>\n",
       "      <td>https://www.yes24.com/Product/Goods/58259617</td>\n",
       "      <td>김낙년,박기주,박이택,차명수 공저</td>\n",
       "      <td>해남</td>\n",
       "      <td>[['김낙년'], ['박기주'], ['박이택'], ['차명수']]</td>\n",
       "      <td>['2018년 01월 18일', '반양장', '616쪽 | 227*303mm', '...</td>\n",
       "      <td>['국내도서&gt;경제 경영&gt;총람/연감']</td>\n",
       "      <td>일반인은 물론, 연구자들도 자신의 전공을 넘어 다른 분야에서 원하는 통계를 찾기가 ...</td>\n",
       "    </tr>\n",
       "    <tr>\n",
       "      <th>5</th>\n",
       "      <td>한국의 장기통계 1</td>\n",
       "      <td>한국의 장기통계 1   [ 반양장 ]</td>\n",
       "      <td>https://www.yes24.com/Product/Goods/58259614</td>\n",
       "      <td>김낙년,박기주,박이택,차명수 공저</td>\n",
       "      <td>해남</td>\n",
       "      <td>[['김낙년'], ['박기주'], ['박이택'], ['차명수']]</td>\n",
       "      <td>['2018년 01월 18일', '반양장', '616쪽 | 227*303mm', '...</td>\n",
       "      <td>['국내도서&gt;경제 경영&gt;총람/연감']</td>\n",
       "      <td>일반인은 물론, 연구자들도 자신의 전공을 넘어 다른 분야에서 원하는 통계를 찾기가 ...</td>\n",
       "    </tr>\n",
       "    <tr>\n",
       "      <th>8</th>\n",
       "      <td>2023 생활물가총람</td>\n",
       "      <td>2023 생활물가총람</td>\n",
       "      <td>https://www.yes24.com/Product/Goods/123877945</td>\n",
       "      <td>한국물가정보 조사부 편</td>\n",
       "      <td>한국물가정보(단행본)</td>\n",
       "      <td>[['한국물가정보 조사부']]</td>\n",
       "      <td>['2023년 11월 29일', '320쪽 | 188*257*30mm', '9791...</td>\n",
       "      <td>['국내도서&gt;경제 경영&gt;총람/연감']</td>\n",
       "      <td>고물가 시대 속, 현명한 소비를 위한 지표[생활물가총람]은 (사)한국물가정보에서 매...</td>\n",
       "    </tr>\n",
       "    <tr>\n",
       "      <th>10</th>\n",
       "      <td>국내외 디스플레이 및 소재/부품/장비 시장 분석과 기술 개발 동향</td>\n",
       "      <td>국내외 디스플레이 및 소재/부품/장비 시장 분석과 기술 개발 동향</td>\n",
       "      <td>https://www.yes24.com/Product/Goods/106490781</td>\n",
       "      <td>미래산업분석연구회 저</td>\n",
       "      <td>리서치컴퍼니</td>\n",
       "      <td>[['미래산업분석연구회']]</td>\n",
       "      <td>['2022년 01월 21일', '822쪽 | 210*297*47mm', '9791...</td>\n",
       "      <td>['국내도서&gt;경제 경영&gt;총람/연감']</td>\n",
       "      <td>*머릿말 2021년 디스플레이 산업은 상, 하반기 분위기가 너무나 상이했던 한 해로...</td>\n",
       "    </tr>\n",
       "    <tr>\n",
       "      <th>12</th>\n",
       "      <td>2022 한경기업총람</td>\n",
       "      <td>2022 한경기업총람   [ 구성 : CD 1장 + USB 1장 + 도서, 양장 ]</td>\n",
       "      <td>https://www.yes24.com/Product/Goods/102831550</td>\n",
       "      <td>NICE평가정보 편</td>\n",
       "      <td>한국경제신문사(한경비피)</td>\n",
       "      <td>[['NICE평가정보', '277929']]</td>\n",
       "      <td>['2021년 07월 22일', '양장', '520쪽 | 188*257*35mm',...</td>\n",
       "      <td>['국내도서&gt;경제 경영&gt;총람/연감']</td>\n",
       "      <td>최고의 검색 및 기업마케팅 솔루션, ≪2022 한경기업총람≫ 발간!〈최신기업DB 검...</td>\n",
       "    </tr>\n",
       "  </tbody>\n",
       "</table>\n",
       "</div>"
      ],
      "text/plain": [
       "                                   title  \\\n",
       "4                             한국의 장기통계 2   \n",
       "5                             한국의 장기통계 1   \n",
       "8                            2023 생활물가총람   \n",
       "10  국내외 디스플레이 및 소재/부품/장비 시장 분석과 기술 개발 동향   \n",
       "12                           2022 한경기업총람   \n",
       "\n",
       "                                         full_name  \\\n",
       "4                             한국의 장기통계 2   [ 반양장 ]   \n",
       "5                             한국의 장기통계 1   [ 반양장 ]   \n",
       "8                                    2023 생활물가총람     \n",
       "10          국내외 디스플레이 및 소재/부품/장비 시장 분석과 기술 개발 동향     \n",
       "12  2022 한경기업총람   [ 구성 : CD 1장 + USB 1장 + 도서, 양장 ]   \n",
       "\n",
       "                                         book_url             authors  \\\n",
       "4    https://www.yes24.com/Product/Goods/58259617  김낙년,박기주,박이택,차명수 공저   \n",
       "5    https://www.yes24.com/Product/Goods/58259614  김낙년,박기주,박이택,차명수 공저   \n",
       "8   https://www.yes24.com/Product/Goods/123877945        한국물가정보 조사부 편   \n",
       "10  https://www.yes24.com/Product/Goods/106490781         미래산업분석연구회 저   \n",
       "12  https://www.yes24.com/Product/Goods/102831550          NICE평가정보 편   \n",
       "\n",
       "        publisher                           author_list  \\\n",
       "4              해남  [['김낙년'], ['박기주'], ['박이택'], ['차명수']]   \n",
       "5              해남  [['김낙년'], ['박기주'], ['박이택'], ['차명수']]   \n",
       "8     한국물가정보(단행본)                      [['한국물가정보 조사부']]   \n",
       "10         리서치컴퍼니                       [['미래산업분석연구회']]   \n",
       "12  한국경제신문사(한경비피)              [['NICE평가정보', '277929']]   \n",
       "\n",
       "                                           item_infos                 cates  \\\n",
       "4   ['2018년 01월 18일', '반양장', '616쪽 | 227*303mm', '...  ['국내도서>경제 경영>총람/연감']   \n",
       "5   ['2018년 01월 18일', '반양장', '616쪽 | 227*303mm', '...  ['국내도서>경제 경영>총람/연감']   \n",
       "8   ['2023년 11월 29일', '320쪽 | 188*257*30mm', '9791...  ['국내도서>경제 경영>총람/연감']   \n",
       "10  ['2022년 01월 21일', '822쪽 | 210*297*47mm', '9791...  ['국내도서>경제 경영>총람/연감']   \n",
       "12  ['2021년 07월 22일', '양장', '520쪽 | 188*257*35mm',...  ['국내도서>경제 경영>총람/연감']   \n",
       "\n",
       "                                                intro  \n",
       "4   일반인은 물론, 연구자들도 자신의 전공을 넘어 다른 분야에서 원하는 통계를 찾기가 ...  \n",
       "5   일반인은 물론, 연구자들도 자신의 전공을 넘어 다른 분야에서 원하는 통계를 찾기가 ...  \n",
       "8   고물가 시대 속, 현명한 소비를 위한 지표[생활물가총람]은 (사)한국물가정보에서 매...  \n",
       "10  *머릿말 2021년 디스플레이 산업은 상, 하반기 분위기가 너무나 상이했던 한 해로...  \n",
       "12  최고의 검색 및 기업마케팅 솔루션, ≪2022 한경기업총람≫ 발간!〈최신기업DB 검...  "
      ]
     },
     "execution_count": 3,
     "metadata": {},
     "output_type": "execute_result"
    }
   ],
   "source": [
    "df_test = df.dropna(subset=['intro'])\n",
    "df_test.head()"
   ]
  },
  {
   "cell_type": "code",
   "execution_count": 4,
   "metadata": {},
   "outputs": [],
   "source": [
    "# 1. FAISS 기반의 Document Store와 Retriever 설정\n",
    "# document_store = FAISSDocumentStore(embedding_dim=768, faiss_index_factory_str=\"Flat\")\n",
    "document_store = FAISSDocumentStore(embedding_dim=384, faiss_index_factory_str=\"Flat\")"
   ]
  },
  {
   "cell_type": "code",
   "execution_count": 5,
   "metadata": {},
   "outputs": [
    {
     "name": "stderr",
     "output_type": "stream",
     "text": [
      "c:\\Users\\jjkha\\anaconda3\\envs\\recsys\\lib\\site-packages\\huggingface_hub\\file_download.py:1142: FutureWarning: `resume_download` is deprecated and will be removed in version 1.0.0. Downloads always resume when possible. If you want to force a new download, use `force_download=True`.\n",
      "  warnings.warn(\n"
     ]
    }
   ],
   "source": [
    "retriever = EmbeddingRetriever(document_store=document_store, embedding_model=\"sentence-transformers/all-MiniLM-L6-v2\")"
   ]
  },
  {
   "cell_type": "code",
   "execution_count": 15,
   "metadata": {},
   "outputs": [
    {
     "name": "stderr",
     "output_type": "stream",
     "text": [
      "Writing Documents: 10000it [00:03, 3089.30it/s]           \n"
     ]
    },
    {
     "data": {
      "application/vnd.jupyter.widget-view+json": {
       "model_id": "5e751200990a48deaa01a7f0ea470992",
       "version_major": 2,
       "version_minor": 0
      },
      "text/plain": [
       "Batches:   0%|          | 0/1 [00:00<?, ?it/s]"
      ]
     },
     "metadata": {},
     "output_type": "display_data"
    },
    {
     "name": "stderr",
     "output_type": "stream",
     "text": [
      "Updating Embedding:   0%|          | 0/609 [00:00<?, ? docs/s]"
     ]
    },
    {
     "data": {
      "application/vnd.jupyter.widget-view+json": {
       "model_id": "a99147806b5e4bf58f5067d814fe07a4",
       "version_major": 2,
       "version_minor": 0
      },
      "text/plain": [
       "Batches:   0%|          | 0/20 [00:00<?, ?it/s]"
      ]
     },
     "metadata": {},
     "output_type": "display_data"
    },
    {
     "name": "stderr",
     "output_type": "stream",
     "text": [
      "Documents Processed: 10000 docs [02:12, 75.39 docs/s]          \n"
     ]
    }
   ],
   "source": [
    "# 2. 문서들을 임베딩하여 저장 (document embedding)\n",
    "docs = df_test[['intro']].to_dict()['intro']\n",
    "\n",
    "# Retriever를 이용해 문서 임베딩 계산 및 저장\n",
    "document_store.write_documents([{'idx':i, \"content\": docs[i]} for i in docs])\n",
    "document_store.update_embeddings(retriever)"
   ]
  },
  {
   "cell_type": "code",
   "execution_count": 28,
   "metadata": {},
   "outputs": [
    {
     "name": "stderr",
     "output_type": "stream",
     "text": [
      "c:\\Users\\jjkha\\anaconda3\\envs\\recsys\\lib\\site-packages\\huggingface_hub\\file_download.py:1142: FutureWarning: `resume_download` is deprecated and will be removed in version 1.0.0. Downloads always resume when possible. If you want to force a new download, use `force_download=True`.\n",
      "  warnings.warn(\n"
     ]
    }
   ],
   "source": [
    "# 3. 임베딩 생성 (토크나이저와 모델 사용)\n",
    "tokenizer = AutoTokenizer.from_pretrained(\"sentence-transformers/all-MiniLM-L6-v2\")\n",
    "model = AutoModel.from_pretrained(\"sentence-transformers/all-MiniLM-L6-v2\")\n",
    "\n",
    "def embed_text(text):\n",
    "    inputs = tokenizer(text, return_tensors='pt', padding=True, truncation=True)\n",
    "    outputs = model(**inputs)\n",
    "    return outputs.last_hidden_state.mean(dim=1).detach().numpy()\n",
    "\n",
    "# 문서 임베딩 계산\n",
    "q_docs = [\"한국 프랜차이즈\", \"미국 자동차\"]\n",
    "doc_embeddings = np.array([embed_text(doc) for doc in q_docs])\n",
    "\n",
    "# 4. 5개의 문서 임베딩을 평균내어 대표 임베딩 계산\n",
    "representative_embedding = np.mean(doc_embeddings, axis=0)\n",
    "\n",
    "# 5. 대표 임베딩을 사용한 검색 (MMR 방식)\n",
    "# Retriever에서 유사한 문서 검색\n",
    "# similar_docs = retriever.retrieve(query=None, query_emb=representative_embedding, top_k=3, use_mmr=True, diversity=0.7)\n",
    "similar_docs = document_store.query_by_embedding(representative_embedding, top_k=10)"
   ]
  },
  {
   "cell_type": "code",
   "execution_count": 18,
   "metadata": {},
   "outputs": [
    {
     "name": "stdout",
     "output_type": "stream",
     "text": [
      "{'idx': 614, 'vector_id': '351'} 이 책은 한국무역전략연구원의 한국무역연감을 다룬 정부간행물이다.\n",
      "{'idx': 613, 'vector_id': '131'} 이 책은 한국문화사회연구원의 한국문화예술연감이다.\n",
      "{'idx': 392, 'vector_id': '326'} 한국전자산업진흥회에서 파악하고 있는 전자계측기의 시장규모와 기술현황을 담은 책이다.\n",
      "{'idx': 216, 'vector_id': '240'} 대한민국 학원에 대한 연간 정보를 담았다. 현재 학원 산업의 현황과 추세, 그리고 앞으로의 계획과 발전방향에 대해 자세히 기록한 자료집이다.\n",
      "{'idx': 611, 'vector_id': '219'} ▶ 이 책은 한국조경산업연구원의 한국조경산업연감이다.\n"
     ]
    }
   ],
   "source": [
    "# 검색 결과 출력\n",
    "for doc in similar_docs:\n",
    "    print(doc.meta, doc.content)"
   ]
  }
 ],
 "metadata": {
  "kernelspec": {
   "display_name": "recsys",
   "language": "python",
   "name": "python3"
  },
  "language_info": {
   "codemirror_mode": {
    "name": "ipython",
    "version": 3
   },
   "file_extension": ".py",
   "mimetype": "text/x-python",
   "name": "python",
   "nbconvert_exporter": "python",
   "pygments_lexer": "ipython3",
   "version": "3.10.15"
  }
 },
 "nbformat": 4,
 "nbformat_minor": 2
}
